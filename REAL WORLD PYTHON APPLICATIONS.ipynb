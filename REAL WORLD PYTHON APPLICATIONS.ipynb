{
 "cells": [
  {
   "cell_type": "code",
   "execution_count": null,
   "metadata": {},
   "outputs": [],
   "source": [
    "import math\n",
    "\n",
    "def addition(a, b):\n",
    "    return a + b\n",
    "\n",
    "def subtratction(a, b):\n",
    "    return a - b\n",
    "\n",
    "def multiplication(a, b):\n",
    "    return a * b\n",
    "\n",
    "def division(a, b):\n",
    "    return a / b\n",
    "\n",
    "def exponent (a, b):\n",
    "    return a ** b\n",
    "\n",
    "def Radical(a):\n",
    "    return math.sqrt(a)\n",
    "print(\"Select Function: \")\n",
    "print(\"1.Addition \")\n",
    "print(\"2.Subtraction\")\n",
    "print(\"3.Multiplication\")\n",
    "print(\"4.Division\")\n",
    "print(\"5.Exponent\")\n",
    "print(\"6.Radical\")\n",
    "while True:\n",
    "    operation = input(\"Select your Operation: \")\n",
    "    if operation in ('1', '2', '3', '4', '5', '6'):\n",
    "            num1 = int(input(\"Enter your first number: \"))\n",
    "            num2 = int(input(\"Enter your second number: \"))\n",
    "            if operation == '1':\n",
    "                print(num1, \"+\", num2, \"=\", addition(num1, num2))\n",
    "\n",
    "            elif operation == '2':\n",
    "                print(num1, \"-\", num2, \"=\", subtratction(num1, num2))\n",
    "\n",
    "            elif operation == '3':\n",
    "                print(num1, \"*\", num2, \"=\", multiplication(num1, num2))\n",
    "\n",
    "            elif operation == '4':\n",
    "                print(num1, \"/\", num2, \"=\", division(num1, num2))\n",
    "\n",
    "            elif operation == '5':\n",
    "                print(num1, \"^\", num2, \"=\", exponent(num1, num2))\n",
    "\n",
    "            elif operation == '6':\n",
    "                print(\"The Square Root of\", num1, \"is:\", Radical(num1))\n",
    "            break\n",
    "    else:\n",
    "        print(\"Invalid Input\")"
   ]
  },
  {
   "cell_type": "code",
   "execution_count": null,
   "metadata": {},
   "outputs": [],
   "source": [
    "COSINE FUNCTION"
   ]
  },
  {
   "cell_type": "code",
   "execution_count": null,
   "metadata": {},
   "outputs": [],
   "source": [
    "import math\n",
    "def cosine(x):\n",
    "    cosine_x = 1 - x ** 2/math.factorial(2) + x ** 4/math.factorial(4) - x ** 6/math.factorial(6) + x ** 8/math.factorial(8) - x ** 10/math.factorial(10)\n",
    "    print(cosine_x)\n",
    "cosine(math.pi/6)"
   ]
  },
  {
   "cell_type": "code",
   "execution_count": null,
   "metadata": {},
   "outputs": [],
   "source": [
    "FIBONACCI SERIES"
   ]
  },
  {
   "cell_type": "code",
   "execution_count": null,
   "metadata": {},
   "outputs": [],
   "source": [
    "ENDNUM=int(input(\"Enter the Fabonichi END Number: \"))\n",
    "n1=0\n",
    "n2=1\n",
    "temp=0\n",
    "for i in range(1, ENDNUM):\n",
    "    if i==1:\n",
    "        print(n1)\n",
    "    if i==2:\n",
    "        print(n2)\n",
    "    temp=n1+n2\n",
    "    n1=n2\n",
    "    n2=temp\n",
    "    print(temp)"
   ]
  },
  {
   "cell_type": "code",
   "execution_count": null,
   "metadata": {},
   "outputs": [],
   "source": [
    "GRAPHING PARABOLAS"
   ]
  },
  {
   "cell_type": "code",
   "execution_count": null,
   "metadata": {},
   "outputs": [],
   "source": [
    "import matplotlib.pyplot as plt\n",
    "import numpy\n",
    "x = numpy.linspace(-100,100,10000)\n",
    "y = x**2 +2*x + 25\n",
    "plt.plot(x,y)\n",
    "plt.show()"
   ]
  },
  {
   "cell_type": "code",
   "execution_count": null,
   "metadata": {},
   "outputs": [],
   "source": [
    "INTREST RATE CALCULATOR"
   ]
  },
  {
   "cell_type": "code",
   "execution_count": null,
   "metadata": {},
   "outputs": [],
   "source": [
    "p = int(input(\"Enter the Interest Rate(Format = 5): \"))\n",
    "A = int(input(\"Enter the Amount of Money: \"))\n",
    "n = int(input(\"Enter the Amount of Years: \"))\n",
    "answer = A *(1 + p/100)**n\n",
    "profited_money = answer - A\n",
    "print(\"The Total Amount of Invested Money is\", round(answer, 3), \"and the Profited Money is\", round(profited_money, 3))"
   ]
  },
  {
   "cell_type": "code",
   "execution_count": null,
   "metadata": {},
   "outputs": [],
   "source": [
    "KMH TO MPH"
   ]
  },
  {
   "cell_type": "code",
   "execution_count": null,
   "metadata": {},
   "outputs": [],
   "source": [
    "miles = int(input(\"Enter your Miles: \"))\n",
    "km = miles/0.6214\n",
    "print(miles, \"miles\", \"=\", km, \"Kilometers\")"
   ]
  },
  {
   "cell_type": "code",
   "execution_count": null,
   "metadata": {},
   "outputs": [],
   "source": [
    "ODD NUMBERS"
   ]
  },
  {
   "cell_type": "code",
   "execution_count": null,
   "metadata": {},
   "outputs": [],
   "source": [
    "a = int(input(\"Enter the starting number: \"))\n",
    "b = int(input(\"Enter the ending number: \"))\n",
    "for odd in range(a, b):\n",
    "    if odd % 2 != 0:\n",
    "        print(odd, end=\",\")\n",
    "\n"
   ]
  },
  {
   "cell_type": "code",
   "execution_count": null,
   "metadata": {},
   "outputs": [],
   "source": [
    "PRIME NUMBERS"
   ]
  },
  {
   "cell_type": "code",
   "execution_count": null,
   "metadata": {},
   "outputs": [],
   "source": [
    "x = int(input(\"Enter x: \"))\n",
    "y = int(input(\"Enter y: \"))\n",
    "\n",
    "print(\"Prime numbers between\", x, \"and\", y, \"are:\")\n",
    "\n",
    "for num in range(x, y + 1):\n",
    "    if num > 1:\n",
    "        for i in range(2, num):\n",
    "            if (num % i) == 0:\n",
    "                break\n",
    "    else:\n",
    "        print(num)"
   ]
  },
  {
   "cell_type": "code",
   "execution_count": null,
   "metadata": {},
   "outputs": [],
   "source": [
    "PYTHOGOREAN THEOREM"
   ]
  },
  {
   "cell_type": "code",
   "execution_count": null,
   "metadata": {},
   "outputs": [],
   "source": [
    "import math\n",
    "a = int(input(\"Enter a: \"))\n",
    "b = int(input(\"Enter b: \"))\n",
    "c = math.sqrt(a**2 + b**2)\n",
    "print(\"The Hypotenuse of this Right Triangle is: \", c)\n",
    "perimeter = a + b + c\n",
    "print(\"The Perimeter of this Right Triangle is: \", perimeter)\n",
    "Area =  a*b/2\n",
    "print(\"The Area of this Right Triangle is: \", Area)"
   ]
  },
  {
   "cell_type": "code",
   "execution_count": null,
   "metadata": {},
   "outputs": [],
   "source": [
    "QUADRATIC EQUATION"
   ]
  },
  {
   "cell_type": "code",
   "execution_count": null,
   "metadata": {},
   "outputs": [],
   "source": [
    "import math\n",
    "a = int(input(\"Enter a: \"))\n",
    "b = int(input(\"Enter b: \"))\n",
    "c = int(input(\"Enter c: \"))\n",
    "\n",
    "discriminant = b**2-4*a*c\n",
    "\n",
    "if discriminant < 0:\n",
    "    print (\"This equation has no real solution\")\n",
    "elif discriminant == 0:\n",
    "    x = (-b+math.sqrt(b**2-4*a*c))/2*a\n",
    "    print (\"This equation has one solutions: \"), x\n",
    "else:\n",
    "    x_positive = (-b + math.sqrt(b**2-4*a*c))/(2*a)\n",
    "    x_negative = (-b - math.sqrt(b**2-4*a*c))/(2*a)\n",
    "    print (\"This equation has two solutions: \", x_positive, \" or\", x_negative)"
   ]
  },
  {
   "cell_type": "raw",
   "metadata": {},
   "source": [
    "RANDOM PASSWORD"
   ]
  },
  {
   "cell_type": "code",
   "execution_count": null,
   "metadata": {},
   "outputs": [],
   "source": [
    "import random\n",
    "chars = \"abcdefghijklmnopqrstuvwxyzABCDEFGHIJKLMNOPQRSTUVWXYZ0123456789!\"#$%&'()*+,-./:;<=>?@[\\]^_`{|}~\"\n",
    "length = int(input(\"What is your length: \"))\n",
    "password = \"\"\n",
    "for i in range(length):\n",
    "\tpassword += random.choice(chars)\n",
    "print(password)"
   ]
  }
 ],
 "metadata": {
  "kernelspec": {
   "display_name": "Python 3",
   "language": "python",
   "name": "python3"
  },
  "language_info": {
   "codemirror_mode": {
    "name": "ipython",
    "version": 3
   },
   "file_extension": ".py",
   "mimetype": "text/x-python",
   "name": "python",
   "nbconvert_exporter": "python",
   "pygments_lexer": "ipython3",
   "version": "3.8.3"
  }
 },
 "nbformat": 4,
 "nbformat_minor": 4
}
